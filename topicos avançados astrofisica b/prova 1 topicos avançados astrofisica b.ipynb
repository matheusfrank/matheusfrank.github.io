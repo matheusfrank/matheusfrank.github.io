{
  "cells": [
    {
      "cell_type": "markdown",
      "id": "FV-KxvYp6Gy1",
      "metadata": {
        "id": "FV-KxvYp6Gy1"
      },
      "source": [
        "# FIS02213 - 2022/1 - PROVA FINAL\n",
        "\n",
        "**NOME:** Matheus Coelho Frank \n",
        "\n",
        "**CARTÃO:** 00221444\n"
      ]
    },
    {
      "cell_type": "markdown",
      "id": "HgFscxP66Gy9",
      "metadata": {
        "id": "HgFscxP66Gy9"
      },
      "source": [
        "## Instruções:\n",
        "\n",
        "* Faça download do notebook **FIS02213-2022-1-PROVA-00000000.ipynb** para seu computador.\n",
        "* Abra o notebook utilizando exclusivamente o **Jupyter Notebook**. \n",
        "* Edite o nome do notebook, substituindo \"00000000\" por seu número de cartão.\n",
        "* Edite a célula acima preenchendo seu NOME e número de CARTÃO.\n",
        "\n",
        "* Leia atentamente o enunciado de cada problema.\n",
        "* Desenvolva o código *tal como solicitado* na célula logo abaixo do enunciado.\n",
        "* Execute seu código, executando-o, para ter certeza de que está funcional.\n",
        "* Lembre-se de documentar seu código.\n",
        "\n",
        "* Você pode consultar o material desenvolvido em aula, suas anotações e os links fornecidos no Moodle.\n",
        "\n",
        "* Ao terminar, salve seu notebook e faça upload do arquivo via Moodle."
      ]
    },
    {
      "cell_type": "markdown",
      "id": "j3WFZgAS6Gy-",
      "metadata": {
        "id": "j3WFZgAS6Gy-"
      },
      "source": [
        "## Questão 1:\n",
        "\n",
        "O isótopo mais simples de um átomo de Hidrogênio é formado por um próton no núcleo e por um único elétron orbitando este núcleo. O elétron pode orbitar o núcleo em diferentes níveis orbitais e numerados por **n = 1, 2, 3, ...**, sendo que o nível **n=1** é o nível de mais baixa energia e o mais estável e, por isto, quando o elétron está neste nível dizemos que está em seu \"estado fundamental\".\n",
        "\n",
        "Quando o elétron interage com um fóton e abosrve sua energia, ele pode transitar para um nível de mais alta energia (n > 1) e é quando dizemos que o elétron está em um \"estado excitado\". Estados excitados são instáveis e a qualquer momento o elétron pode transitar para qualquer outro estado de mais baixa energia. A energia perdida é emitida na forma de um fóton. \n",
        "\n",
        "O **comprimento de onda** $\\lambda$ associado a este fóton pode ser calculado pela fórmula de Rydberg:\n",
        "\n",
        "$$ \\frac{1}{\\lambda} = R_H \\, \\left( \\frac{1}{n_f} - \\frac{1}{n_i} \\right) \\quad ,$$\n",
        "\n",
        "onde $R_H=1.09678\\times 10^7\\; \\rm{m}^{-1}$ é a constante de Rydberg, $n_i$ é o nível inicial e $n_f$ o nível final,\n",
        "com $ 1 \\le n_f \\lt n_i$.\n",
        "\n",
        "As transições eletrônicas que têm com nível final $n_f=1$ constituem a **série de Lyman**; as que tem nível final $n_f=2$ constituem a **série de Balmer**; e as que tem níveis finais iguais a 3, 4 e 5 constituem as séries de **Paschen**, **Brackett** e **Pfund**, respectivamente, conforme mostrado na imagem a seguir. Por exemplo, se o elétron está no nível 6 e transita para o nível 2, então $n_i=6$ e $n_f=2$ e esta transição pertence à série de Balmer. Séries com $n_f > 5$ não possuem nomes próprios.\n",
        "\n",
        "<img src=\"http://www.if.ufrgs.br/~costajes/Hseries.png\" alt=\"Séries Espectrais\" style=\"height: 500px; width:500px;\"/>\n",
        "\n",
        "O comprimento de onda $\\lambda$ tem unidades de comprimento, sendo que as unidades mais usadas são metros (m), mícrons (1 $\\mu$m = $10^{-6}$ m), nanometros (1 nm = $10^{-9}$ m) e Angstrom (1 Angstrom $= 10^{-10}$ m).\n",
        "\n",
        "Luz com comprimento de onda $400 nm \\le \\lambda 800 nm$ (aproximadamente) estão na faixa **visível** (**V**) do espectro eletromagnético, enquanto que luz com $\\lambda > 800 nm$ está na faixa do **infravermelho** (**IR**) e na faixa do **ultravioleta** (**UV**) se $\\lambda < 400nm$.\n",
        "\n",
        "**O que fazer:** \n",
        "\n",
        "* Na célula abaixo, escreva uma função **transition(ni, nf, units=\"nm\", series=False)** que retorne calcule comprimento de onda $\\lambda$ da transição do nível inicial $n_i$ para o nível final $n_f$, representados por **ni** e **nf**, respectivamente e identifique a série da transição.\n",
        "\n",
        "* $n_i$ e $n_f$ são necessariamente inteiros e $1 \\le n_f \\lt n_i \\le 8$. (Transições com $n_i>8$ são possíveis, mas vamos nos limitar a $n_i \\le 8$.) Se alguma dessas condições não for satisfeita, uma exceção deve ser lançada.\n",
        "\n",
        "* A função deve retornar o comprimento de onda $\\lambda$ associado à transição, na forma de um float **com dois (2) dígitos** após o ponto flutuante. \n",
        "\n",
        "* O parâmetro **units** permite a escolha da unidade de medida de medida do comprimento de onda $\\lambda$, aceitando apenas as seguintes strings: **m**, **nm**, **um** e **A** para metros, nanometros, mícrons e Angstrom, respectivamente. Por default, a unidade deve ser metros. Para qualquer argumento diferente dos mencionados, uma exceção deve ser lançada.\n",
        "\n",
        "* A função deve retornar uma **tupla** contendo o valor de $\\lambda$, o nome da série da transição - Lyman, Balmer, Paschen, Brackett, Pdunf e Unknown se o nome não for conhecido- e a faixa espectral (IR, V ou UV).\n",
        "\n",
        "* Documente a função com uma docstring."
      ]
    },
    {
      "cell_type": "code",
      "execution_count": 20,
      "id": "315c1760",
      "metadata": {},
      "outputs": [
        {
          "name": "stdout",
          "output_type": "stream",
          "text": [
            "(410.29, 'nm', 'Balmer', 'V')\n"
          ]
        }
      ],
      "source": [
        "#Questão 1:\n",
        "def transition(ni, nf, units='nm', series=False):\n",
        "    \"\"\"Esta função retorna o comprimento Lambda associado à transição eletrônica em formato float com dois digítios após o ponto flutuante. \n",
        "    Esta função também permite selecionara unidade de medidas desejada e a série a qual a transição pertence.\"\"\"\n",
        "    if nf == ni:\n",
        "        return None\n",
        "    elif not 1 <= nf < ni <= 8:                                                              \n",
        "        raise Exception('Número ni < nf OU nf/ni < 1 OU maiores ou iguais a 8 OU nf = ni.')\n",
        "    else:                                                                                  \n",
        "        Rh = 1.09678*(10**7)                                                               \n",
        "        Lambda = 1/(Rh*((1/(nf**2))-(1/(ni**2))))\n",
        "        converter = {'m':(1),'um':(1e-6),'nm':(1e-9),'A':(1e-10)}\n",
        "        if units not in ('m','um','nm','A'):\n",
        "            raise Exception('Unidade de medida não aceita.')\n",
        "        else:\n",
        "            if Lambda/converter[units] < 400: faixa = 'IV'\n",
        "            elif Lambda/converter[units] > 800: faixa = 'UV'\n",
        "            else: faixa = 'V'\n",
        "            if series == True:                                                                        \n",
        "                series = ['Lymann','Balmer','Paschen','Bracket','Pfund','Unknown','Unknown','Unknown']\n",
        "                return round(Lambda/converter[units],2),units,series[nf-1],faixa\n",
        "            else:\n",
        "                return round(Lambda/converter[units],2),units,None,faixa\n",
        "\n",
        "print(transition(6,2,'nm',True))"
      ]
    },
    {
      "cell_type": "markdown",
      "id": "p7QG85Da6GzH",
      "metadata": {
        "id": "p7QG85Da6GzH"
      },
      "source": [
        "--- \n",
        "# Questão 2:\n",
        "\n",
        "* Escreva um código que solicite ao usuário os valores dos níveis inicial e final;\n",
        "* permita a escolha de uma das 4 unidades possíveis;\n",
        "* retorne o comprimento de onda associado à transição na unidade escolhida;\n",
        "* mostre o nome da série\n",
        "* e a faixa espectral."
      ]
    },
    {
      "cell_type": "code",
      "execution_count": 99,
      "id": "lfbCPf4P6GzI",
      "metadata": {
        "id": "lfbCPf4P6GzI",
        "outputId": "8e3c8e41-97d5-42ea-c7d3-4cb7440fdb73"
      },
      "outputs": [
        {
          "name": "stdout",
          "output_type": "stream",
          "text": [
            "(121.57, 'nm', 'Lymann', 'IV')\n"
          ]
        }
      ],
      "source": [
        "#Questão 2:\n",
        "ni = int(input('Digite o nível inicial:'))\n",
        "nf = int(input('Digite o nível final:'))\n",
        "units = input(\"Escolha uma das seguintes unidades:'m','um','nm','A'\")\n",
        "\n",
        "print(transition(ni, nf, units, True))"
      ]
    },
    {
      "cell_type": "markdown",
      "id": "DPVc20G36GzJ",
      "metadata": {
        "id": "DPVc20G36GzJ"
      },
      "source": [
        "---\n",
        "\n",
        "# Questão 3:\n",
        "\n",
        "Escreva um código Python que:\n",
        "* Mostre, na forma de uma **tabela**, todas as transições possíveis para as séries Lyman e Balmer com $n_i \\le 8$.\n",
        "* A tabela deve ter as seguintes colunas:\n",
        "'''\n",
        "    coluna 1 : $n_i$\n",
        "    coluna 2 : $n_f$\n",
        "    coluna 3 : $\\lambda$ (em nm)\n",
        "    coluna 4 : nome da série\n",
        "    coluna 5 : faixa espectral\n",
        "    \n",
        "'''\n",
        "* Nas colunas da tabela, todos os valores numéricos devem estar alinhados à direita e as strings alinhadas à esquerda.\n",
        "\n",
        "Exemplo (com valores fakes):\n",
        "    \n",
        "    ni   nf   Lambda (nm)   Série  Faixa\n",
        "     8    1   111111.11     Xyz    V\n",
        "     7    1    11111.11     Xyz    IR\n",
        "     ...\n",
        "     2    1      111.11     Xyz    UV\n",
        "     8    2     1111.11     Abc    IR\n",
        "     ...\n",
        "     3    2       11.11     Abc    V\n",
        "        \n",
        "* O uso de linhas horizontais por meio do usdo de \"-\" e \"|\" é opcional.\n",
        "\n"
      ]
    },
    {
      "cell_type": "code",
      "execution_count": 101,
      "id": "mnVLN81Y6GzK",
      "metadata": {
        "id": "mnVLN81Y6GzK",
        "outputId": "13596971-e044-4701-9833-64cbba4a1a6a"
      },
      "outputs": [
        {
          "name": "stdout",
          "output_type": "stream",
          "text": [
            "\tni \tnf \t  Lambda \tUnit \t Series   Band\n",
            "\t 8\t 1\t00092.62\t  nm\t Lymann\t    IV\n",
            "\t 8\t 2\t00389.02\t  nm\t Balmer\t    IV\n",
            "\t 8\t 3\t00954.86\t  nm\tPaschen\t    UV\n",
            "\t 8\t 4\t01945.09\t  nm\tBracket\t    UV\n",
            "\t 8\t 5\t03740.55\t  nm\t  Pfund\t    UV\n",
            "\t 8\t 6\t07502.48\t  nm\tUnknown\t    UV\n",
            "\t 8\t 7\t19061.86\t  nm\tUnknown\t    UV\n",
            "\t 7\t 1\t00093.08\t  nm\t Lymann\t    IV\n",
            "\t 7\t 2\t00397.12\t  nm\t Balmer\t    IV\n",
            "\t 7\t 3\t01005.22\t  nm\tPaschen\t    UV\n",
            "\t 7\t 4\t02166.12\t  nm\tBracket\t    UV\n",
            "\t 7\t 5\t04653.77\t  nm\t  Pfund\t    UV\n",
            "\t 7\t 6\t12371.88\t  nm\tUnknown\t    UV\n",
            "\t 6\t 1\t00093.78\t  nm\t Lymann\t    IV\n",
            "\t 6\t 2\t00410.29\t  nm\t Balmer\t     V\n",
            "\t 6\t 3\t01094.11\t  nm\tPaschen\t    UV\n",
            "\t 6\t 4\t02625.87\t  nm\tBracket\t    UV\n",
            "\t 6\t 5\t07459.85\t  nm\t  Pfund\t    UV\n",
            "\t 5\t 1\t00094.97\t  nm\t Lymann\t    IV\n",
            "\t 5\t 2\t00434.17\t  nm\t Balmer\t     V\n",
            "\t 5\t 3\t01282.16\t  nm\tPaschen\t    UV\n",
            "\t 5\t 4\t04052.27\t  nm\tBracket\t    UV\n",
            "\t 4\t 1\t00097.25\t  nm\t Lymann\t    IV\n",
            "\t 4\t 2\t00486.27\t  nm\t Balmer\t     V\n",
            "\t 4\t 3\t01875.62\t  nm\tPaschen\t    UV\n",
            "\t 3\t 1\t00102.57\t  nm\t Lymann\t    IV\n",
            "\t 3\t 2\t00656.47\t  nm\t Balmer\t     V\n",
            "\t 2\t 1\t00121.57\t  nm\t Lymann\t    IV\n"
          ]
        }
      ],
      "source": [
        "#Questão 3:\n",
        "print('\\tni','\\tnf','\\t  Lambda','\\tUnit','\\t Series','  Band')\n",
        "for i in [8,7,6,5,4,3,2,1]:\n",
        "    for n in [1,2,3,4,5,6,7,8]:\n",
        "        if i <= n:\n",
        "            pass\n",
        "        else:\n",
        "            a,b,c,d=transition(i,n,units,True)\n",
        "            print(f'\\t{str(i).rjust(2,\" \")}\\t{str(n).rjust(2,\" \")}\\t{str(a).zfill(8).rjust(0,\" \")}\\t{str(b).rjust(4,\" \")}\\t{str(c).rjust(7,\" \")}\\t{str(d).rjust(6,\" \")}')"
      ]
    },
    {
      "cell_type": "markdown",
      "id": "RvlG4VHY6GzP",
      "metadata": {
        "id": "RvlG4VHY6GzP"
      },
      "source": [
        "--- \n",
        "# Questão 4:\n",
        "\n",
        "Quando um gás de Hidrogênio é submetido à radiação ou a descargas elétricas, os elétrons de seus átomos tornan-se excitados, passando para níveis de mais alta energia. Quando os elétrons de \"desexcitam\", passando para níveis de mais baixa energia, emitindo fótons com os comprimentos de onda específicos de acordo com a fórmula de Rydberb.\n",
        "Quando a luz emitida pelo gás é decomposta por um prisma, por exemplo, estas emissões foram linhas espectrais brilhantes chamadas **linhas de emissão**, conforme a figura abaixo:\n",
        "\n",
        "<img src=\"http://www.if.ufrgs.br/~costajes/Hspectrum.png\" alt=\"Espectro do Hidrogênio\" style=\"height: 200px; width:800px;\"/>\n",
        "\n",
        "* Escreva um código em Python que gere um gráfico representando o espectro de emissão do Hidrogênio, mostrando todas as linhas espectrais com $\\lambda_1 \\le \\lambda \\le \\lambda_2$ com $\\lambda_1 = 10$ nm e $\\lambda_2 = 10\\,000$ nm.\n",
        "* O gráfico deve ter um aspecto semelhante ao da figura acima, onde o comprimento de onda $\\lambda$ é mostrado no eixo horizontal e as linhas de emissão são representadas por linhas verticais com uma altura arbitrária. \n",
        "* A altura do gráfico deve ser cerca de 4 vezes menor do que sua largura para que tenha o aspecto de um retângulo achatado como o da figura acima.\n",
        "* Cada série de linhas deve ser representada com uma cor diferente, de sua escolha. Por exemplo, as linhas da série Blamer em azul, da Lyman em vermelho, etc.\n",
        "* O código deve possibilitar que o gráfico seja do tipo **linear-linear** ou **log-linear** (eixo-x linear ou log).\n"
      ]
    },
    {
      "cell_type": "code",
      "execution_count": 238,
      "id": "Kmqb65-k6GzQ",
      "metadata": {
        "id": "Kmqb65-k6GzQ",
        "outputId": "807ff731-b712-426f-89e0-acdb747fe929"
      },
      "outputs": [
        {
          "data": {
            "text/plain": [
              "<Figure size 640x480 with 0 Axes>"
            ]
          },
          "metadata": {},
          "output_type": "display_data"
        },
        {
          "data": {
            "image/png": "[encoded data removed]",
            "text/plain": [
              "<Figure size 1200x300 with 1 Axes>"
            ]
          },
          "metadata": {},
          "output_type": "display_data"
        }
      ],
      "source": [
        "#Questão 4:\n",
        "import matplotlib.pyplot as plt\n",
        "import numpy as np\n",
        "\n",
        "\n",
        "arrA = []\n",
        "for i in [8,7,6,5,4,3,2,1]:\n",
        "    for n in [1,2,3,4,5,6,7,8]:\n",
        "        if i <= n:\n",
        "            pass\n",
        "        else:\n",
        "            a,b,c,d=transition(i,n,'nm',True)\n",
        "            arrA.append(a)\n",
        "arrA = np.sort(arrA)\n",
        "arrB = np.ones(len(arrA))\n",
        "\n",
        "fig = plt.figure()\n",
        "plt.figure(figsize=(12,3))\n",
        "plt.stem(arrA,arrB)\n",
        "plt.yticks([0,1])\n",
        "plt.xlim(0, 1e+4)\n",
        "plt.xscale('linear')\n",
        "plt.show()\n"
      ]
    },
    {
      "cell_type": "markdown",
      "id": "ZuIZq22G6GzT",
      "metadata": {
        "id": "ZuIZq22G6GzT"
      },
      "source": [
        "---\n",
        "\n",
        "# Questão 5:\n",
        "\n",
        "Aproveitando o código que você desenvolveu acima:\n",
        "\n",
        "* Crie uma **classe* chamada **Transition** cujas instâncias representam uma transição eletrônica possível no Hidrogênio.\n",
        "* Ao ser criada uma instância desta classe, deve-ser passar os níveis $n_i$ e $n_f$. Por exemplo, para uma transição de 2 para 1:\n",
        "    \n",
        "    $$ tr = Transition(2, 1)$$\n",
        "    \n",
        "* Adicione um método público chamado **lambda(unitss='nm')*** que retorne o comprimento de onda $\\lambda$ da transição, nas unidades especificadas por **unitss**.\n",
        "* Adicione um método público chamado **serie()** que retorne o nome da série.\n",
        "* Adicione um método público chamado **faixa()** que retorne a faixa espectral da transição.\n",
        "* Adicione uma representação amigável para o objeto.\n",
        "\n",
        "* Para testar, crie o objeto desta classe e testando todos os métodos acima.\n",
        "  \n",
        "\n",
        "    "
      ]
    },
    {
      "cell_type": "code",
      "execution_count": 1,
      "id": "HJCLrRU86GzT",
      "metadata": {
        "id": "HJCLrRU86GzT"
      },
      "outputs": [],
      "source": [
        "# Escreva o código da QUESTÃO 5 aqui:\n",
        "'''\n",
        "Autor: Matheus Coelho Frank\n",
        "matheus.cfrank@gmail.com\n",
        "'''\n",
        "\n",
        "class Transition:\n",
        "  ''' Esta classe calcula o comprimento de Lambda de acordo com a unidade desejada\n",
        "  assim como informa sua série de transição eletrônica e faixa espectral.'''\n",
        "  def __init__(self,ni,nf):\n",
        "    if ni<=nf:\n",
        "      pass\n",
        "      #raise Exception('Exceção: ni deve ser maior que nf.')    \n",
        "    self.ni=ni\n",
        "    self.nf=nf\n",
        "\n",
        "  def __repr__(self):\n",
        "    return f'Transition({self.ni},{self.nf})'\n",
        "\n",
        "  def Lambda(self,units='m'):\n",
        "    Rh=1.09678*10**7\n",
        "    Lambda=1/(Rh*((1/self.nf**2)-(1/self.ni**2)))\n",
        "    if units == 'm':\n",
        "      return (Lambda,units)\n",
        "    elif units == 'um':\n",
        "      return (Lambda*10**-6,units)\n",
        "    elif units == 'nm':\n",
        "      return (Lambda*10**-9,units)\n",
        "    elif units == 'A':\n",
        "      return (Lambda*10**-10,units)\n",
        "\n",
        "  def serie(self):\n",
        "    series = ['Lymann','Balmer','Paschen','Bracket','Pfund']\n",
        "    serie2 = ['Unknown']\n",
        "    if self.nf > 5:\n",
        "      return serie2[0]\n",
        "    else:\n",
        "      return series[self.nf-1]\n",
        "  \n",
        "  def units(self,value,units='m'):\n",
        "    if units == 'm':\n",
        "      return value\n",
        "    elif units == 'um':\n",
        "      return value*10**-6\n",
        "    elif units == 'nm':\n",
        "      return value*10**-9\n",
        "    elif units == 'A':\n",
        "      return value*10**-10\n",
        "\n",
        "  def faixa(self,units):\n",
        "    Lambda,units=self.Lambda()\n",
        "    if Lambda < self.units(4e-7,units): \n",
        "      return  'IF'\n",
        "    if Lambda > self.units(8e-7,units):\n",
        "      return 'UV' \n",
        "    else: \n",
        "      return 'V'"
      ]
    },
    {
      "cell_type": "code",
      "execution_count": 2,
      "id": "9xxhLbVHIR6f",
      "metadata": {
        "colab": {
          "base_uri": "https://localhost:8080/"
        },
        "id": "9xxhLbVHIR6f",
        "outputId": "68b76828-27cc-4fcb-e7b8-2028b4f0611c"
      },
      "outputs": [
        {
          "name": "stdout",
          "output_type": "stream",
          "text": [
            "Lambda\t\tUnits\tSérie\t\tFaixa\tn_i & n_f\n",
            "9.262e-08\tm\tLymann\t\tIF\tTransition(8,1)\n",
            "9.262e-14\tum\tLymann\t\tIF\tTransition(8,1)\n",
            "9.262e-17\tnm\tLymann\t\tIF\tTransition(8,1)\n",
            "9.262e-18\tA\tLymann\t\tIF\tTransition(8,1)\n",
            "3.89e-07\tm\tBalmer\t\tIF\tTransition(8,2)\n",
            "3.89e-13\tum\tBalmer\t\tIF\tTransition(8,2)\n",
            "3.89e-16\tnm\tBalmer\t\tIF\tTransition(8,2)\n",
            "3.89e-17\tA\tBalmer\t\tIF\tTransition(8,2)\n",
            "9.549e-07\tm\tPaschen\t\tUV\tTransition(8,3)\n",
            "9.549e-13\tum\tPaschen\t\tUV\tTransition(8,3)\n",
            "9.549e-16\tnm\tPaschen\t\tUV\tTransition(8,3)\n",
            "9.549e-17\tA\tPaschen\t\tUV\tTransition(8,3)\n",
            "1.945e-06\tm\tBracket\t\tUV\tTransition(8,4)\n",
            "1.945e-12\tum\tBracket\t\tUV\tTransition(8,4)\n",
            "1.945e-15\tnm\tBracket\t\tUV\tTransition(8,4)\n",
            "1.945e-16\tA\tBracket\t\tUV\tTransition(8,4)\n",
            "3.741e-06\tm\tPfund\t\tUV\tTransition(8,5)\n",
            "3.741e-12\tum\tPfund\t\tUV\tTransition(8,5)\n",
            "3.741e-15\tnm\tPfund\t\tUV\tTransition(8,5)\n",
            "3.741e-16\tA\tPfund\t\tUV\tTransition(8,5)\n",
            "7.502e-06\tm\tUnknown\t\tUV\tTransition(8,6)\n",
            "7.502e-12\tum\tUnknown\t\tUV\tTransition(8,6)\n",
            "7.502e-15\tnm\tUnknown\t\tUV\tTransition(8,6)\n",
            "7.502e-16\tA\tUnknown\t\tUV\tTransition(8,6)\n",
            "1.906e-05\tm\tUnknown\t\tUV\tTransition(8,7)\n",
            "1.906e-11\tum\tUnknown\t\tUV\tTransition(8,7)\n",
            "1.906e-14\tnm\tUnknown\t\tUV\tTransition(8,7)\n",
            "1.906e-15\tA\tUnknown\t\tUV\tTransition(8,7)\n",
            "9.308e-08\tm\tLymann\t\tIF\tTransition(7,1)\n",
            "9.308e-14\tum\tLymann\t\tIF\tTransition(7,1)\n",
            "9.308e-17\tnm\tLymann\t\tIF\tTransition(7,1)\n",
            "9.308e-18\tA\tLymann\t\tIF\tTransition(7,1)\n",
            "3.971e-07\tm\tBalmer\t\tIF\tTransition(7,2)\n",
            "3.971e-13\tum\tBalmer\t\tIF\tTransition(7,2)\n",
            "3.971e-16\tnm\tBalmer\t\tIF\tTransition(7,2)\n",
            "3.971e-17\tA\tBalmer\t\tIF\tTransition(7,2)\n",
            "1.005e-06\tm\tPaschen\t\tUV\tTransition(7,3)\n",
            "1.005e-12\tum\tPaschen\t\tUV\tTransition(7,3)\n",
            "1.005e-15\tnm\tPaschen\t\tUV\tTransition(7,3)\n",
            "1.005e-16\tA\tPaschen\t\tUV\tTransition(7,3)\n",
            "2.166e-06\tm\tBracket\t\tUV\tTransition(7,4)\n",
            "2.166e-12\tum\tBracket\t\tUV\tTransition(7,4)\n",
            "2.166e-15\tnm\tBracket\t\tUV\tTransition(7,4)\n",
            "2.166e-16\tA\tBracket\t\tUV\tTransition(7,4)\n",
            "4.654e-06\tm\tPfund\t\tUV\tTransition(7,5)\n",
            "4.654e-12\tum\tPfund\t\tUV\tTransition(7,5)\n",
            "4.654e-15\tnm\tPfund\t\tUV\tTransition(7,5)\n",
            "4.654e-16\tA\tPfund\t\tUV\tTransition(7,5)\n",
            "1.237e-05\tm\tUnknown\t\tUV\tTransition(7,6)\n",
            "1.237e-11\tum\tUnknown\t\tUV\tTransition(7,6)\n",
            "1.237e-14\tnm\tUnknown\t\tUV\tTransition(7,6)\n",
            "1.237e-15\tA\tUnknown\t\tUV\tTransition(7,6)\n",
            "9.378e-08\tm\tLymann\t\tIF\tTransition(6,1)\n",
            "9.378e-14\tum\tLymann\t\tIF\tTransition(6,1)\n",
            "9.378e-17\tnm\tLymann\t\tIF\tTransition(6,1)\n",
            "9.378e-18\tA\tLymann\t\tIF\tTransition(6,1)\n",
            "4.103e-07\tm\tBalmer\t\tV\tTransition(6,2)\n",
            "4.103e-13\tum\tBalmer\t\tV\tTransition(6,2)\n",
            "4.103e-16\tnm\tBalmer\t\tV\tTransition(6,2)\n",
            "4.103e-17\tA\tBalmer\t\tV\tTransition(6,2)\n",
            "1.094e-06\tm\tPaschen\t\tUV\tTransition(6,3)\n",
            "1.094e-12\tum\tPaschen\t\tUV\tTransition(6,3)\n",
            "1.094e-15\tnm\tPaschen\t\tUV\tTransition(6,3)\n",
            "1.094e-16\tA\tPaschen\t\tUV\tTransition(6,3)\n",
            "2.626e-06\tm\tBracket\t\tUV\tTransition(6,4)\n",
            "2.626e-12\tum\tBracket\t\tUV\tTransition(6,4)\n",
            "2.626e-15\tnm\tBracket\t\tUV\tTransition(6,4)\n",
            "2.626e-16\tA\tBracket\t\tUV\tTransition(6,4)\n",
            "7.46e-06\tm\tPfund\t\tUV\tTransition(6,5)\n",
            "7.46e-12\tum\tPfund\t\tUV\tTransition(6,5)\n",
            "7.46e-15\tnm\tPfund\t\tUV\tTransition(6,5)\n",
            "7.46e-16\tA\tPfund\t\tUV\tTransition(6,5)\n",
            "9.497e-08\tm\tLymann\t\tIF\tTransition(5,1)\n",
            "9.497e-14\tum\tLymann\t\tIF\tTransition(5,1)\n",
            "9.497e-17\tnm\tLymann\t\tIF\tTransition(5,1)\n",
            "9.497e-18\tA\tLymann\t\tIF\tTransition(5,1)\n",
            "4.342e-07\tm\tBalmer\t\tV\tTransition(5,2)\n",
            "4.342e-13\tum\tBalmer\t\tV\tTransition(5,2)\n",
            "4.342e-16\tnm\tBalmer\t\tV\tTransition(5,2)\n",
            "4.342e-17\tA\tBalmer\t\tV\tTransition(5,2)\n",
            "1.282e-06\tm\tPaschen\t\tUV\tTransition(5,3)\n",
            "1.282e-12\tum\tPaschen\t\tUV\tTransition(5,3)\n",
            "1.282e-15\tnm\tPaschen\t\tUV\tTransition(5,3)\n",
            "1.282e-16\tA\tPaschen\t\tUV\tTransition(5,3)\n",
            "4.052e-06\tm\tBracket\t\tUV\tTransition(5,4)\n",
            "4.052e-12\tum\tBracket\t\tUV\tTransition(5,4)\n",
            "4.052e-15\tnm\tBracket\t\tUV\tTransition(5,4)\n",
            "4.052e-16\tA\tBracket\t\tUV\tTransition(5,4)\n",
            "9.725e-08\tm\tLymann\t\tIF\tTransition(4,1)\n",
            "9.725e-14\tum\tLymann\t\tIF\tTransition(4,1)\n",
            "9.725e-17\tnm\tLymann\t\tIF\tTransition(4,1)\n",
            "9.725e-18\tA\tLymann\t\tIF\tTransition(4,1)\n",
            "4.863e-07\tm\tBalmer\t\tV\tTransition(4,2)\n",
            "4.863e-13\tum\tBalmer\t\tV\tTransition(4,2)\n",
            "4.863e-16\tnm\tBalmer\t\tV\tTransition(4,2)\n",
            "4.863e-17\tA\tBalmer\t\tV\tTransition(4,2)\n",
            "1.876e-06\tm\tPaschen\t\tUV\tTransition(4,3)\n",
            "1.876e-12\tum\tPaschen\t\tUV\tTransition(4,3)\n",
            "1.876e-15\tnm\tPaschen\t\tUV\tTransition(4,3)\n",
            "1.876e-16\tA\tPaschen\t\tUV\tTransition(4,3)\n",
            "1.026e-07\tm\tLymann\t\tIF\tTransition(3,1)\n",
            "1.026e-13\tum\tLymann\t\tIF\tTransition(3,1)\n",
            "1.026e-16\tnm\tLymann\t\tIF\tTransition(3,1)\n",
            "1.026e-17\tA\tLymann\t\tIF\tTransition(3,1)\n",
            "6.565e-07\tm\tBalmer\t\tV\tTransition(3,2)\n",
            "6.565e-13\tum\tBalmer\t\tV\tTransition(3,2)\n",
            "6.565e-16\tnm\tBalmer\t\tV\tTransition(3,2)\n",
            "6.565e-17\tA\tBalmer\t\tV\tTransition(3,2)\n",
            "1.216e-07\tm\tLymann\t\tIF\tTransition(2,1)\n",
            "1.216e-13\tum\tLymann\t\tIF\tTransition(2,1)\n",
            "1.216e-16\tnm\tLymann\t\tIF\tTransition(2,1)\n",
            "1.216e-17\tA\tLymann\t\tIF\tTransition(2,1)\n"
          ]
        }
      ],
      "source": [
        "#Teste Questão 5:\n",
        "print(f'Lambda\\t\\tUnits\\tSérie\\t\\tFaixa\\tn_i & n_f')\n",
        "for i in [8,7,6,5,4,3,2,1]:\n",
        "  for j in [1,2,3,4,5,6,7,8]:\n",
        "    for units in ['m','um','nm','A']:\n",
        "      if i<=j:\n",
        "        pass\n",
        "      else:\n",
        "        obj1=Transition(i,j)\n",
        "        Lambda,units=obj1.Lambda(units)\n",
        "        print(f'{Lambda:0.4}\\t{units}\\t{obj1.serie()}\\t\\t{obj1.faixa(units)}\\t{obj1.__repr__()}')   \n"
      ]
    }
  ],
  "metadata": {
    "colab": {
      "provenance": []
    },
    "kernelspec": {
      "display_name": "Python 3.9.0 64-bit",
      "language": "python",
      "name": "python3"
    },
    "language_info": {
      "codemirror_mode": {
        "name": "ipython",
        "version": 3
      },
      "file_extension": ".py",
      "mimetype": "text/x-python",
      "name": "python",
      "nbconvert_exporter": "python",
      "pygments_lexer": "ipython3",
      "version": "3.9.0"
    },
    "vscode": {
      "interpreter": {
        "hash": "b655ba03582bdb193127bf1a5382d6489bcc112f5c5216667937d7ad5f31ecaf"
      }
    }
  },
  "nbformat": 4,
  "nbformat_minor": 5
}
