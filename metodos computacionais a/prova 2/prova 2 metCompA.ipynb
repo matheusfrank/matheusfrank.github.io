{
  "cells": [
    {
      "cell_type": "markdown",
      "metadata": {
        "id": "5ofwopcp2Twy"
      },
      "source": [
        "**Questão 1**\n",
        " Use um método de ajuste linear para encontrar a partir dos dados a\n",
        "velocidade inicial v0 e a aceleração a do corpo.\n",
        "\n",
        "**Resposta**\n",
        "$$V = V_0 + at $$\n",
        "\n",
        "com base nos dados e pelo Ajuste Linear, temos\n",
        "\n",
        "$$ a = -3.30 \\textrm{ e } V_0 = 150.24$$"
      ]
    },
    {
      "cell_type": "code",
      "execution_count": null,
      "metadata": {
        "colab": {
          "base_uri": "https://localhost:8080/",
          "height": 386
        },
        "id": "XWIb616V2BJ1",
        "outputId": "0d135a3d-e010-4cfc-8cd8-235c139f167b"
      },
      "outputs": [],
      "source": [
        "#Questão 1:\n",
        "\n",
        "from numpy import mean, loadtxt\n",
        "import matplotlib.pyplot as plt\n",
        "\n",
        "t, v = loadtxt('velocidades.dat', unpack=True)\n",
        "\n",
        "def linearAdjust (t, v, parameter=True):\n",
        "  a = ( mean(t*v) - mean(t) * mean(v) ) / ( mean(t**2) - mean(t)**2 )\n",
        "  b = ( mean(t**2) * mean(v) - mean(t) * mean(t*v) ) / ( mean(t**2) - mean(t)**2 )\n",
        "  v = a*t + b\n",
        "  if parameter=='True':\n",
        "    return a,b\n",
        "  else:\n",
        "    return v\n",
        "\n",
        "figure = plt.figure(figsize=(15, 5))\n",
        "plt.subplot(121)\n",
        "plt.title(f'Ajuste Linear de \"Velocidades.dat\"')\n",
        "plt.scatter(t, v, label='Velocidades Originais')\n",
        "plt.plot(t,linearAdjust(t, v, False), 'k', label='Ajuste Linear')\n",
        "plt.xlabel('y')\n",
        "plt.ylabel('x')\n",
        "plt.legend()\n",
        "plt.grid()\n",
        "\n",
        "t,v=linearAdjust(t,v,True)\n",
        "print(f'Aceleração = {t:.3}\\nV0 = {v:.5}')"
      ]
    },
    {
      "cell_type": "markdown",
      "metadata": {
        "id": "fIRawoWF2UHZ"
      },
      "source": [
        "**Questão 2**\n",
        "Use um método de integração numérica para calcular a partir dos dados\n",
        "(e não da função analítica ajustada) a posição y do corpo após 30 s.\n",
        "\n",
        "**Resposta**\n",
        "Com dt = 1, temos\n",
        "$$dt\\sum_{i}^{30}y_i = 1\\sum_{i}^{30}y_i = 3123.17$$"
      ]
    },
    {
      "cell_type": "code",
      "execution_count": null,
      "metadata": {
        "colab": {
          "base_uri": "https://localhost:8080/",
          "height": 0
        },
        "id": "TdwXDhI32Sz5",
        "outputId": "2365bf54-7198-49ac-c685-df3a7be8f3b3"
      },
      "outputs": [
        {
          "name": "stdout",
          "output_type": "stream",
          "text": [
            "3123.17\n"
          ]
        }
      ],
      "source": [
        "#Questão 2:\n",
        "\n",
        "t, v = loadtxt('velocidades.dat', unpack=True)\n",
        "\n",
        "def intSimples(v, dt):\n",
        "  return dt*np.sum(v)\n",
        "\n",
        "print(intSimples(v, 1))"
      ]
    },
    {
      "cell_type": "markdown",
      "metadata": {
        "id": "rkG-FfQM2Ua5"
      },
      "source": [
        "**Questão 3**\n",
        "Integre analiticamente a equação da velocidade (1) acima e obtenha\n",
        "a equação de evoluçãao temporal para a posição y(t), considerando a\n",
        "aceleração a e a velocidade inicial v0 encontrados no ajuste linear.\n",
        "\n",
        "**Resposta** Para obter a função posição $y(t)$ integramos ambos os termos, logo\n",
        "\n",
        "$$\\int{v(t)dt} = \\int{150.24 - 3.3tdt}$$ \n",
        "\n",
        "substituindo $\\int{v(t)} \\textrm{ por } y(t) $,\n",
        "\n",
        "$$y(t) = 150.24t - 1.65t^2 + C $$\n",
        "\n",
        " e, considerando C = 0, temos \n",
        "$$y(t) = 150.24t - 1.65t^2 $$"
      ]
    },
    {
      "cell_type": "markdown",
      "metadata": {
        "id": "izxcd70B2Utp"
      },
      "source": [
        "**Questão 4** Use a equação analítica da posição obtida no item 3 para calcular a altura em que se encontra o corpo após 30 s, compare com o resultado\n",
        "numérico obtido no item 2 e discuta a origem das diferenças.\n",
        "\n",
        "**Resposta** Como o Ajuste Linear obtém uma nova função ajustada a fim de diminuir o $δ$(distância) em referência aos dados, uma disparidade entre os dados obtidos e interpolados é prevista, se comparadas às expressões analíticas. Logo, esse erro, denotado por ϵ, é igual a\n",
        "\n",
        "$$ ϵ =  100.96 $$"
      ]
    },
    {
      "cell_type": "code",
      "execution_count": null,
      "metadata": {
        "colab": {
          "base_uri": "https://localhost:8080/",
          "height": 0
        },
        "id": "0Gjeb3Fq2SZD",
        "outputId": "3a775e47-5b33-4d46-8928-a2b4b0912948"
      },
      "outputs": [
        {
          "name": "stdout",
          "output_type": "stream",
          "text": [
            "Posição de acordo com os dados: 3123.2\n",
            "Posição de acordo com o ajuste: 3022.2 \n",
            "Erro = 101.0\n"
          ]
        }
      ],
      "source": [
        "#Questão 4:\n",
        "y = lambda t : 150.24*t - 1.65*t**2\n",
        "print(f'Posição de acordo com os dados: {intSimples(v, 1):.5}\\nPosição de acordo com o ajuste: {y(30):.5} \\nErro = {intSimples(v, 1) - y(30):.4}')"
      ]
    }
  ],
  "metadata": {
    "colab": {
      "name": "Prova 2 Matheus Coelho Frank.ipynb",
      "provenance": []
    },
    "kernelspec": {
      "display_name": "Python 3.9.0 64-bit",
      "language": "python",
      "name": "python3"
    },
    "language_info": {
      "codemirror_mode": {
        "name": "ipython",
        "version": 3
      },
      "file_extension": ".py",
      "mimetype": "text/x-python",
      "name": "python",
      "nbconvert_exporter": "python",
      "pygments_lexer": "ipython3",
      "version": "3.9.0"
    },
    "vscode": {
      "interpreter": {
        "hash": "b655ba03582bdb193127bf1a5382d6489bcc112f5c5216667937d7ad5f31ecaf"
      }
    }
  },
  "nbformat": 4,
  "nbformat_minor": 0
}
