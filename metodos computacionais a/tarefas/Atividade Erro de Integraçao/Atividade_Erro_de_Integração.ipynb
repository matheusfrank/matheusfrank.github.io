{
  "nbformat": 4,
  "nbformat_minor": 0,
  "metadata": {
    "colab": {
      "name": "Atividade Erro de Integração.ipynb",
      "provenance": [],
      "collapsed_sections": []
    },
    "kernelspec": {
      "name": "python3",
      "display_name": "Python 3"
    },
    "language_info": {
      "name": "python"
    }
  },
  "cells": [
    {
      "cell_type": "markdown",
      "source": [
        "**Atividade Erro de Integração**"
      ],
      "metadata": {
        "id": "Hz5fZ4XLGvdt"
      }
    },
    {
      "cell_type": "code",
      "source": [
        "import numpy as np\n",
        "import matplotlib.pyplot as plt\n",
        "\n",
        "#Funções\n",
        "int_analitica = 2*np.arctan(3)\n",
        "\n",
        "def f(x):\n",
        "  return 1/(x**2 + 1)\n",
        "\n",
        "def dx(a, b, n):\n",
        "  return (b - a) / n\n",
        "\n",
        "#Trapezio\n",
        "\n",
        "def int_trapezio(f,a,b,N):\n",
        "  integral = 0\n",
        "  dx = (b - a) / N\n",
        "  for i in range(N):\n",
        "    x = a + i*dx\n",
        "    trapezio = ((f(x)+f(x+dx))/2)*dx\n",
        "    integral = integral + trapezio\n",
        "  return integral\n",
        "\n",
        "def erro_trapezio(int_analitica, int_trapezio):\n",
        "  return abs(int_analitica - int_trapezio)\n",
        "\n",
        "#Simpson\n",
        "\n",
        "def int_simpson(f, a, b, n):\n",
        "    if n & 1:\n",
        "        print (\"Erro: n não é par.\")\n",
        "        return 0\n",
        "    dx = (b - a) / n\n",
        "    integral = 0\n",
        "    x = a\n",
        "    for i in range(0, int(n/2) ):\n",
        "        integral += f(x) + (2 * f(x + dx))\n",
        "        x += 2 * dx\n",
        "    integral = (2 * integral) - f(a) + f(b)\n",
        "    integral = dx * integral / 3\n",
        "    return integral\n",
        "\n",
        "def erro_simpson(int_analitica, int_simpson):\n",
        "  return abs(int_analitica - int_simpson)\n",
        "\n",
        "#Listas\n",
        "lista_erros_trapezio = []\n",
        "lista_dx_trapezio = []\n",
        "lista_erros_simpson = []\n",
        "lista_dx_simpson = []\n",
        "\n",
        "for n in 2**np.arange(2,22,2):\n",
        "  lista_erros_simpson.append(erro_simpson(int_analitica, int_simpson(f, -3, 3, n)))\n",
        "  lista_dx_simpson.append(dx(-3,3,n))\n",
        "  lista_erros_trapezio.append(erro_trapezio(int_analitica, int_trapezio(f, -3, 3, n)))\n",
        "  lista_dx_trapezio.append(dx(-3,3,n))\n",
        "\n",
        "array_erros_trapezio = np.array(lista_erros_trapezio)\n",
        "array_dx_trapezio = np.array(lista_dx_trapezio)\n",
        "array_erros_simpson = np.array(lista_erros_simpson)\n",
        "array_dx_simpson = np.array(lista_dx_simpson)\n",
        "\n",
        "#Gráficos\n",
        "figura = plt.figure(figsize=(15, 5))\n",
        "plt.subplot(121)\n",
        "plt.scatter(np.log10(array_dx_trapezio),np.log10(array_erros_trapezio))\n",
        "plt.plot(np.log10(array_dx_trapezio),np.log10(array_erros_trapezio))\n",
        "plt.ylabel('Log Erro')\n",
        "plt.xlabel('dx')\n",
        "plt.grid()\n",
        "plt.title('Erro Método Trapézio')\n",
        "\n",
        "plt.subplot(122)\n",
        "plt.scatter(np.log10(array_dx_simpson),np.log10(array_erros_simpson))\n",
        "plt.plot(np.log10(array_dx_simpson),np.log10(array_erros_simpson))\n",
        "plt.ylabel('Log Erro')\n",
        "plt.xlabel('dx')\n",
        "plt.grid()\n",
        "plt.title('Erro Método de Simpson')\n",
        "\n",
        "plt.savefig('grafico.png')\n",
        "\n",
        "#Inclinação\n",
        "a1=(np.log10(array_erros_trapezio[6])-np.log10(array_erros_trapezio[0]))/(np.log10(array_dx_trapezio[6])-np.log10(array_dx_trapezio[0]))\n",
        "print(f'Inclinação Trapezio {a1:.2}')\n",
        "a=(np.log10(array_erros_simpson[6])-np.log10(array_erros_simpson[0]))/(np.log10(array_dx_simpson[6])-np.log10(array_dx_simpson[0]))\n",
        "print(f'Inclinação  Simpson {a:.2}')"
      ],
      "metadata": {
        "colab": {
          "base_uri": "https://localhost:8080/",
          "height": 385
        },
        "id": "6UPjNP47CVst",
        "outputId": "79c7a5ba-97e7-4423-b209-695a83199d82"
      },
      "execution_count": null,
      "outputs": [
        {
          "output_type": "stream",
          "name": "stdout",
          "text": [
            "Inclinação Trapezio 2.1\n",
            "Inclinação  Simpson 3.7\n"
          ]
        },
        {
          "output_type": "display_data",
          "data": {
            "text/plain": [
              "<Figure size 1080x360 with 2 Axes>"
            ],
            "image/png": "[encoded data removed]"
          },
          "metadata": {
            "needs_background": "light"
          }
        }
      ]
    },
    {
      "cell_type": "code",
      "source": [
        "  x = []\n",
        "  y = []\n",
        "\n",
        "xMean = np.mean(x)\n",
        "yMean = np.mean(y)\n",
        "xyMean = np.mean(x*y)\n",
        "xSqdMean = np.mean(x**2)\n",
        "\n",
        "def linearAdjust(xMean, yMean, xyMean, xSqdMean,array_dx, array_erro):a = ( xyMean - xMean * yMean ) / (xSqdMean - xMean**2)\n",
        "  for i in range(0,5,1):\n",
        "    x = np.log10(array_dx[5-i])\n",
        "    y = np.log10(array_erro[5-i])\n",
        "  return a\n",
        "\n",
        "print(f'Ajuste Linear Trapezio{linearAdjust (xMean, yMean, xyMean, xSqdMean, array_dx_trapezio, array_erros_trapezio)}')  #revisar\n",
        "print(f'Ajuste Linear Simpson{linearAdjust (xMean, yMean, xyMean, xSqdMean, array_dx_simpson, array_erros_simpson)}')     #revisar"
      ],
      "metadata": {
        "colab": {
          "base_uri": "https://localhost:8080/",
          "height": 130
        },
        "id": "YL7RNgHfJEVo",
        "outputId": "7058e9e5-9131-4d1e-c177-59e35242cd33"
      },
      "execution_count": null,
      "outputs": [
        {
          "output_type": "error",
          "ename": "IndentationError",
          "evalue": "ignored",
          "traceback": [
            "\u001b[0;36m  File \u001b[0;32m\"<ipython-input-3-a8848011f698>\"\u001b[0;36m, line \u001b[0;32m10\u001b[0m\n\u001b[0;31m    a = (( xyMean - xMean * yMean ) / (xSqdMean - xMean**2))\u001b[0m\n\u001b[0m    ^\u001b[0m\n\u001b[0;31mIndentationError\u001b[0m\u001b[0;31m:\u001b[0m expected an indented block\n"
          ]
        }
      ]
    },
    {
      "cell_type": "code",
      "source": [
        ""
      ],
      "metadata": {
        "colab": {
          "base_uri": "https://localhost:8080/"
        },
        "id": "4tJGo99vgOIL",
        "outputId": "03633646-d3f9-4747-c39a-29d4920a182c"
      },
      "execution_count": null,
      "outputs": [
        {
          "output_type": "stream",
          "name": "stdout",
          "text": [
            "Ajuste Linear Trapezionan\n"
          ]
        },
        {
          "output_type": "stream",
          "name": "stderr",
          "text": [
            "/usr/local/lib/python3.7/dist-packages/ipykernel_launcher.py:7: RuntimeWarning: invalid value encountered in double_scalars\n",
            "  import sys\n"
          ]
        }
      ]
    },
    {
      "cell_type": "code",
      "source": [
        "#input de dados\n",
        "x = []\n",
        "y = []\n",
        "for i in range(0,5,1): #loop que executa a função e atribui os valores calculados\n",
        "  x = np.log10(array_dx_trapezio[5-i])\n",
        "  y = np.log10(array_erros_trapezio[5-i])\n",
        "\n",
        "#arrays\n",
        "xMean = np.mean(x)\n",
        "yMean = np.mean(y)\n",
        "xyMean = np.mean(x*y)\n",
        "xSqdMean = np.mean(x**2)\n",
        "\n",
        "#funcoes\n",
        "def linearAdjust (xMean, yMean, xyMean, xSqdMean): #função de ajuste linear\n",
        "  a = ( xyMean - xMean * yMean ) / (xSqdMean - xMean**2)\n",
        "  return a\n",
        "\n",
        "print(a)"
      ],
      "metadata": {
        "colab": {
          "base_uri": "https://localhost:8080/"
        },
        "id": "D6QpWh9OG1t6",
        "outputId": "00abaf14-7139-4928-8334-5f8b37b43cf7"
      },
      "execution_count": null,
      "outputs": [
        {
          "output_type": "stream",
          "name": "stdout",
          "text": [
            "4.542070176046991\n"
          ]
        }
      ]
    },
    {
      "cell_type": "markdown",
      "source": [
        "Rascunhos."
      ],
      "metadata": {
        "id": "qZyKI63HCY8L"
      }
    },
    {
      "cell_type": "code",
      "execution_count": null,
      "metadata": {
        "id": "m9mdwZ0M2Qsn"
      },
      "outputs": [],
      "source": [
        "import numpy as np\n",
        "\n",
        "int_analitica = 2.4980915447965\n",
        "\n",
        "def f(x):\n",
        "  return 1/(x**2 + 1)\n",
        "\n",
        "def int_trapezio(f,a,b,N):\n",
        "  integral = 0\n",
        "  dx = (b-a)/N\n",
        "  for i in range(N):\n",
        "    x = a + i*dx\n",
        "    trapezio = ((f(x)+f(x+dx))/2)*dx\n",
        "    integral = integral + trapezio\n",
        "  return integral\n",
        "\n",
        "def erro_trapezio(int_analitica, int_trapezio):\n",
        "  return abs(int_analitica - int_trapezio)"
      ]
    },
    {
      "cell_type": "code",
      "source": [
        "import numpy as np\n",
        "\n",
        "int_analitica = 2.4980915447965\n",
        "\n",
        "def f(x):\n",
        "  return 1/(x**2 + 1)\n",
        "\n",
        "def int_simpson(f, a, b, n):\n",
        "    if n & 1:\n",
        "        print (\"Erro: n não é par.\")\n",
        "        return 0\n",
        "    dx = (b - a) / n\n",
        "    integral = 0\n",
        "    x = a\n",
        "    n_div = int(n / 2)\n",
        "    for i in range(0, n_div):\n",
        "        integral += f(x) + (2 * f(x + dx))\n",
        "        x += 2 * dx\n",
        "    integral = (2 * integral) - f(a) + f(b)\n",
        "    integral = dx * integral / 3\n",
        "    return integral\n",
        "    \n",
        "def dx_simpson(a, b, n):\n",
        "  return (b - a) / n\n",
        "\n",
        "def erro_simpson(int_analitica, int_simpson):\n",
        "  return abs(int_analitica - int_simpson)"
      ],
      "metadata": {
        "id": "4LmSql-sl2-Y"
      },
      "execution_count": null,
      "outputs": []
    },
    {
      "cell_type": "code",
      "source": [
        "lista_erros_simpson = []\n",
        "lista_dx_simpson = []\n",
        "\n",
        "for n in 2**np.arange(2,22,2):\n",
        "  lista_erros_simpson.append(erro_simpson(int_analitica, int_simpson(f, -3, 3, n)))\n",
        "  lista_dx_simpson.append(dx_simpson(-3,3,n))\n",
        "\n",
        "array_erros_simpson = np.array(lista_erros_simpson)\n",
        "array_dx_simpson = np.array(lista_dx_simpson)"
      ],
      "metadata": {
        "id": "cFlxtKxC53-5"
      },
      "execution_count": null,
      "outputs": []
    },
    {
      "cell_type": "code",
      "source": [
        "print(array_erros_simpson)\n",
        "print(array_dx_simpson)"
      ],
      "metadata": {
        "colab": {
          "base_uri": "https://localhost:8080/"
        },
        "id": "my3ZOmwUttcG",
        "outputId": "3e8ac62b-b584-47c4-a9be-2d44fa7a4668"
      },
      "execution_count": null,
      "outputs": [
        {
          "output_type": "stream",
          "name": "stdout",
          "text": [
            "[1.67322309e-01 4.93559773e-04 4.45413284e-08 4.60341498e-09\n",
            " 4.79575579e-09 4.79650542e-09 4.79651607e-09 4.79648543e-09\n",
            " 4.79653606e-09 4.79657114e-09]\n",
            "[1.50000000e+00 3.75000000e-01 9.37500000e-02 2.34375000e-02\n",
            " 5.85937500e-03 1.46484375e-03 3.66210938e-04 9.15527344e-05\n",
            " 2.28881836e-05 5.72204590e-06]\n"
          ]
        }
      ]
    },
    {
      "cell_type": "code",
      "source": [
        "for n in 2**np.arange(2,22,2):\n",
        "    print(int_simpson(f,-3,3,n))\n",
        "for n in 2**np.arange(2,22,2):\n",
        "    print(dx_simpson(-3,3,n))"
      ],
      "metadata": {
        "colab": {
          "base_uri": "https://localhost:8080/"
        },
        "id": "cTezIWV4siBI",
        "outputId": "46ebae5c-a735-401f-e7af-5fe4eae12cb6"
      },
      "execution_count": null,
      "outputs": [
        {
          "output_type": "stream",
          "name": "stdout",
          "text": [
            "2.330769230769231\n",
            "2.497597980226787\n",
            "2.4980914954586715\n",
            "2.498091544603415\n",
            "2.4980915447957557\n",
            "2.4980915447965053\n",
            "2.498091544796516\n",
            "2.4980915447964853\n",
            "2.498091544796536\n",
            "2.498091544796571\n",
            "1.5\n",
            "0.375\n",
            "0.09375\n",
            "0.0234375\n",
            "0.005859375\n",
            "0.00146484375\n",
            "0.0003662109375\n",
            "9.1552734375e-05\n",
            "2.288818359375e-05\n",
            "5.7220458984375e-06\n"
          ]
        }
      ]
    },
    {
      "cell_type": "code",
      "source": [
        "import matplotlib.pyplot as plt\n",
        "\n",
        "plt.scatter(np.log(array_dx_simpson),np.log(array_erros_simpson))"
      ],
      "metadata": {
        "colab": {
          "base_uri": "https://localhost:8080/",
          "height": 282
        },
        "id": "vlkxlS4bweiG",
        "outputId": "2224d145-cb0c-4132-99a2-87b190a4a6ca"
      },
      "execution_count": null,
      "outputs": [
        {
          "output_type": "execute_result",
          "data": {
            "text/plain": [
              "<matplotlib.collections.PathCollection at 0x7f67c9918950>"
            ]
          },
          "metadata": {},
          "execution_count": 92
        },
        {
          "output_type": "display_data",
          "data": {
            "text/plain": [
              "<Figure size 432x288 with 1 Axes>"
            ],
            "image/png": "[encoded data removed]"
          },
          "metadata": {
            "needs_background": "light"
          }
        }
      ]
    },
    {
      "cell_type": "code",
      "source": [
        "import numpy as np\n",
        "data1 = np.loadtxt(\"velocidades.dat\")\n",
        "print (data1)"
      ],
      "metadata": {
        "id": "2oBcKym19Xjf"
      },
      "execution_count": null,
      "outputs": []
    },
    {
      "cell_type": "code",
      "source": [
        "import numpy as np\n",
        "import matplotlib.pyplot as plt\n",
        "\n",
        "#Funções\n",
        "int_analitica = 2*np.arctan(3)\n",
        "\n",
        "def f(x):\n",
        "  return 1/(x**2 + 1)\n",
        "\n",
        "def dx(a, b, n):\n",
        "  return (b - a) / n\n",
        "\n",
        "#Trapezio\n",
        "\n",
        "def int_trapezio(f,a,b,N):\n",
        "  integral = 0\n",
        "  dx = (b - a) / N\n",
        "  for i in range(N):\n",
        "    x = a + i*dx\n",
        "    trapezio = ((f(x)+f(x+dx))/2)*dx\n",
        "    integral = integral + trapezio\n",
        "  return integral\n",
        "\n",
        "def erro_trapezio(int_analitica, int_trapezio):\n",
        "  return abs(int_analitica - int_trapezio)\n",
        "\n",
        "#Simpson\n",
        "\n",
        "def int_simpson(f, a, b, n):\n",
        "    if n & 1:\n",
        "        print (\"Erro: n não é par.\")\n",
        "        return 0\n",
        "    dx = (b - a) / n\n",
        "    integral = 0\n",
        "    x = a\n",
        "    n_div = int(n / 2)\n",
        "    for i in range(0, n_div):\n",
        "        integral += f(x) + (2 * f(x + dx))\n",
        "        x += 2 * dx\n",
        "    integral = (2 * integral) - f(a) + f(b)\n",
        "    integral = dx * integral / 3\n",
        "    return integral\n",
        "\n",
        "def erro_simpson(int_analitica, int_simpson):\n",
        "  return abs(int_analitica - int_simpson)\n",
        "\n",
        "#Listas\n",
        "lista_erros_trapezio = []\n",
        "lista_dx_trapezio = []\n",
        "lista_erros_simpson = []\n",
        "lista_dx_simpson = []\n",
        "\n",
        "for n in 2**np.arange(2,22,2):\n",
        "  lista_erros_simpson.append(erro_simpson(int_analitica, int_simpson(f, -3, 3, n)))\n",
        "  lista_dx_simpson.append(dx(-3,3,n))\n",
        "  lista_erros_trapezio.append(erro_trapezio(int_analitica, int_trapezio(f, -3, 3, n)))\n",
        "  lista_dx_trapezio.append(dx(-3,3,n))\n",
        "\n",
        "array_erros_trapezio = np.array(lista_erros_trapezio)\n",
        "array_dx_trapezio = np.array(lista_dx_trapezio)\n",
        "array_erros_simpson = np.array(lista_erros_simpson)\n",
        "array_dx_simpson = np.array(lista_dx_simpson)\n",
        "\n",
        "#Gráficos\n",
        "figura = plt.figure(figsize=(15, 5))\n",
        "plt.subplot(121)\n",
        "plt.scatter(np.log10(array_dx_trapezio),np.log10(array_erros_trapezio))\n",
        "plt.plot(np.log10(array_dx_trapezio),np.log10(array_erros_trapezio))\n",
        "plt.ylabel('Log Erro')\n",
        "plt.xlabel('dx')\n",
        "plt.grid()\n",
        "plt.title('Erro Método Trapézio')\n",
        "\n",
        "plt.subplot(122)\n",
        "plt.scatter(np.log10(array_dx_simpson),np.log10(array_erros_simpson))\n",
        "plt.plot(np.log10(array_dx_simpson),np.log10(array_erros_simpson))\n",
        "plt.ylabel('Log Erro')\n",
        "plt.xlabel('dx')\n",
        "plt.grid()\n",
        "plt.title('Erro Método de Simpson')\n",
        "\n",
        "plt.savefig('grafico.png')\n",
        "\n",
        "#Inclinação\n",
        "a1=(np.log10(array_erros_trapezio[5])-np.log10(array_erros_trapezio[0]))/(np.log10(array_dx_trapezio[5])-np.log10(array_dx_trapezio[0]))\n",
        "print(f'Inclinação Trapezio {a1:.2}')\n",
        "a=(np.log10(array_erros_simpson[5])-np.log10(array_erros_simpson[0]))/(np.log10(array_dx_simpson[5])-np.log10(array_dx_simpson[0]))\n",
        "print(f'Inclinação  Simpson {a:.2}')"
      ],
      "metadata": {
        "colab": {
          "base_uri": "https://localhost:8080/",
          "height": 385
        },
        "id": "Gqooa13g3Twc",
        "outputId": "e30fb44a-88f0-4164-c6f7-415d86521d0e"
      },
      "execution_count": null,
      "outputs": [
        {
          "output_type": "stream",
          "name": "stdout",
          "text": [
            "Inclinação Trapezio 2.2\n",
            "Inclinação  Simpson 4.5\n"
          ]
        },
        {
          "output_type": "display_data",
          "data": {
            "text/plain": [
              "<Figure size 1080x360 with 2 Axes>"
            ],
            "image/png": "[encoded data removed]"
          },
          "metadata": {
            "needs_background": "light"
          }
        }
      ]
    }
  ]
}