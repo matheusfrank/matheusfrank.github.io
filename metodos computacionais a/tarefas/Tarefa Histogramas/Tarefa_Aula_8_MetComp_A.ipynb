{
  "nbformat": 4,
  "nbformat_minor": 0,
  "metadata": {
    "colab": {
      "name": "Tarefa Aula 8 MetComp A.ipynb",
      "provenance": [],
      "collapsed_sections": []
    },
    "kernelspec": {
      "name": "python3",
      "display_name": "Python 3"
    },
    "language_info": {
      "name": "python"
    }
  },
  "cells": [
    {
      "cell_type": "code",
      "source": [
        "import array\n",
        "import numpy as np\n",
        "import matplotlib.pyplot as plt\n",
        "def roll_dices(n):                    # Função para rolar os dados 1 e 2:\n",
        "  d1=np.random.randint(1,7,n)         # A variável x1 já é criada com os modulos de numeros aleatorios que representam o lancamento dos dados 1 e 2, respectivamente.\n",
        "  d2=np.random.randint(1,7,n)         # y representa a soma dos valores obtidos com os lançamentos.\n",
        "  y=d1+d2\n",
        "  return y\n",
        "def mean(y):                          # Funcao média:   \n",
        "  #n=len(y)                           # n=len(y) é uma linha que obtinha o valor de n a partir do comprimento do array y. Entretanto foi removida por n estar atualmente atribuída\n",
        "  sum=np.sum(y)                       # ao 'input' n no corpo do código.\n",
        "  y_mean=(1/n)*sum\n",
        "  return y_mean\n",
        "def std(y,y_mean):                    # Função desvio padrão:\n",
        "  n=len(y)\n",
        "  dev=np.sqrt((1/n)*np.sum((y_mean-y)**2))\n",
        "  return dev\n",
        "n=int(input('Insira o número de vezes que os dados serão jogados: \\n'))  # Nesse caso, 'input' foi utilizado para rodar qualquer 'n rodadas' desejado.\n",
        "y=roll_dices(n)                                                       # Os valores necessários para os cálculos são guardados em variavéis que têm como resultado, o resultado\n",
        "y_mean=mean(y)                                                        # das funções roll_dices, mean e std.\n",
        "y_std=std(y,y_mean)\n",
        "\n",
        "histograma = plt.figure()\n",
        "plt.suptitle('Histograma de Lançamento de Dados')\n",
        "plt.title(f'n = {n}')\n",
        "plt.xlabel(f'Somas Possíveis')\n",
        "plt.ylabel(f'Número de Ocorrências')\n",
        "hist=np.zeros(11)\n",
        "for i in y:\n",
        "    hist[i-2]+=1\n",
        "x = np.arange(2,13)\n",
        "plt.bar(x,hist)\n",
        "plt.savefig('histograma.png')\n",
        "plt.show()\n",
        "\n",
        "print(f'\\n O valor médio obtido em {n} lançamentos é: {y_mean:.10f}')\n",
        "print(f'\\n O desvio padrão obtido em {n} lançamentos é: {y_std:.10f}')\n",
        "print(f'\\n o valor médio obtido de acordo com o módulo np.mean é: {np.mean(y):.10f}')\n",
        "print(f'\\n o desvio padrão obtido de acordo com o módulo np.std é: {np.std(y):.10f}')\n",
        "print(f'\\n O array y, contendo todos as somas dos dados 1 e 2, para os lançamentos é:\\n \\n{y}')"
      ],
      "metadata": {
        "colab": {
          "base_uri": "https://localhost:8080/",
          "height": 1000
        },
        "id": "vxmthO6gGn4q",
        "outputId": "e02475a1-6664-4c7e-a42c-a078b5483673"
      },
      "execution_count": 2,
      "outputs": [
        {
          "name": "stdout",
          "output_type": "stream",
          "text": [
            "Insira o número de vezes que os dados serão jogados: \n",
            "1000\n"
          ]
        },
        {
          "output_type": "display_data",
          "data": {
            "text/plain": [
              "<Figure size 432x288 with 1 Axes>"
            ],
            "image/png": "[encoded data removed]"
          },
          "metadata": {
            "needs_background": "light"
          }
        },
        {
          "output_type": "stream",
          "name": "stdout",
          "text": [
            "\n",
            " O valor médio obtido em 1000 lançamentos é: 6.9250000000\n",
            "\n",
            " O desvio padrão obtido em 1000 lançamentos é: 2.4148240102\n",
            "\n",
            " o valor médio obtido de acordo com o módulo np.mean é: 6.9250000000\n",
            "\n",
            " o desvio padrão obtido de acordo com o módulo np.std é: 2.4148240102\n",
            "\n",
            " O array y, contendo todos as somas dos dados 1 e 2, para os lançamentos é:\n",
            " \n",
            "[ 5  6  8  5 10 12 10 10  6  8  6  5  7  8 12  6  7  9  7  7  9  5  7 12\n",
            "  9  6  3  9 10  8  8  2 11  9  8  7  8  7  6  7  5  7  2  8  7  7  3 10\n",
            "  9  9  8  7  8  7  3 12  3  7  9  7  7 10  8  6  7  4  8  8  7 12  6  5\n",
            "  9  8  4  9  5  9  8  6  4  6  7  8  9  7  5  3 10  2  7 11  8  7  6  4\n",
            "  2  9  5  8  7  8  7  6  2  7  5  9  8 11  5 12  7  8  9  4  6  4  8  8\n",
            "  8  9  3 12  5  4  8  7 10  5  8  6  3  9  7  6  7  7  8  2  8  4  8  5\n",
            "  7  5 11  7  8  5  5  7  3  8  5  4  5  3  6  7 12  7  6  5 10  5  8  9\n",
            "  6  9  7  5  7  9  7  7  7  8  6  8  6  5 10  7 11  8 10  8 12  5  5  8\n",
            "  4  8  9 10  2  7  3  6  7  8  9  5  8 10  8  6 10  9  7  8  7  4  7  3\n",
            "  9  2  7  6  2  5  6  6 11  8  6  9  5  3  3  8  5  9  4  8  6  6  8  2\n",
            " 10  9  3  5  7  7 10  5 11  5  4 10  9  9  8 10  5  2  8  7  8  8  6  3\n",
            "  4  5  3  7  9  8  5  3  4  6  5  5  4  6 12  4  7  9  4  5  5  8  2 10\n",
            "  6  8 11 12 10  6  8  8 12  7  5 10 11  4  6  7  6  9  9  4  7  5  9 11\n",
            "  6  5  6  5  7  4 11  7 12  6 11  7 12  8  6  5  3  7  7  8  2  7  7  5\n",
            "  4  5  5  8  9  4  8  6  7  8  8  6  8  6  9 11  5  4 12 10  9  7 12  6\n",
            "  3 10  5  3  9  7  7 12  7  6  5  6 10  5  8 10  6 10  9  3  6  8 10  8\n",
            " 11  5  8  9  6 12  9  8  6  5  5 12  9 10  5  6  7  4  6  3  2 10  7  4\n",
            "  4  3  4 10  9  4  9  6 12 11  5 10  8  7 10  5  6 10  7  6  8  6  8  8\n",
            "  5  7  8  8  6  6  5  6  8  4  6  4  8  4  6  9  4  8  6  8  6  5  5  5\n",
            "  9  7  7  8  6  4  6  6  9  4 12  3  7  3  5  8 10  7  4  7  7  9  3  4\n",
            " 11  4 11  8 10  8  8 11  5  6  4  8  6  6  9  9  5  7  6  8  3  3  6 10\n",
            "  8  5  9  9  8  4  3  5  4  6 11  2  9  3  6  9  7  7  7  9  3  9  5  9\n",
            "  6  9  4  7 10  8  7  5  4  6  6  6  6  5  7  5  7 10  7  8  2 10  5  6\n",
            "  5  6 11  7  8  5  3 10  7  7  6  4  6 10 10  7  3  8  4 10  6  8  7 11\n",
            "  8  6  3 11  9  8  8 12  9 11  4  8  2 10  4  8  7  3  9  7  5  3 10  4\n",
            "  6  6  6  8  4  9  9  9 12  4  7  7  6  8  6  4 11  6 11  9  7  2  2  8\n",
            "  6  5 10  4  4 11 11  8  6  9  6  4 10  8  8  5 12  8  6  5  3  4  9  5\n",
            "  8 10  5  5  5 12  9  7  6  4  7  6  8  7  2 10  4  7  8  8 11  6  7  5\n",
            "  7  9  7  5  5  9  8  9  7  7 10  3 10 11  3  6  6  7 10  7  7 10  4  3\n",
            " 11  5  7 11  7  7  5 10  2  9  3  8  7  3  6 10  4  8 12  8  7  9  2  8\n",
            "  9  2  2  7  7  7  8  3  3 10  6  6  5 10 12 10  5  8  6  3  5  6  4  8\n",
            "  5  3  7 10 10  6  8  5  9  4 11  3  5  6  8  5  5  6  8  7  8  7  8  5\n",
            "  8  8 11  5  8  3 11  7  6  2  7  3  5  6  8 10  9  8  7  6  6  6  7 10\n",
            "  7 11  8  6  9  4  7  6  7  7 11  4  4  9 10  8  4  2 11  6  7  3  8 11\n",
            "  9  8  3  5  3  5  5  4  7  9  7  8  8  8 11  4  8  7  9  9  6 12  8  4\n",
            "  5  8  4  7  6  8 12  4  7  2 11  6  9  3  4  7  4  8  8 11  6  7  7 11\n",
            "  9  2  2  8  7  6  4  9 11  8 10  4  7  4  5  9  7  8  7  9  5  3  5 11\n",
            "  7 12 10  7  8 11  9  5  5  7  6 12  8  9  9  8  5  9  6  8 12  5  9 11\n",
            "  3  8  5  4 11  6  7  7  7  9  5  6  8  9  8  4  9  7  8  6  8  5  7  6\n",
            "  6  8  8  7  9 10  6  6  9  3  4  4  8 10  6  4 10  9  4 10  6  9  8  8\n",
            "  3  9  7  7  8  5  3  7  3  2 10  4  6  5  6 11  8  7  5  7  5  7  8  6\n",
            "  7 10  7  4  5  7  5  7  7  8  5  7 11  8  7  9]\n"
          ]
        }
      ]
    }
  ]
}